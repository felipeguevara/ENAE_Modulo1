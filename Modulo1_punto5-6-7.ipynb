{
 "cells": [
  {
   "cell_type": "code",
   "execution_count": 11,
   "metadata": {},
   "outputs": [],
   "source": [
    "import numpy as np\n",
    "import pandas as pd"
   ]
  },
  {
   "cell_type": "markdown",
   "metadata": {},
   "source": [
    "## Punto 5"
   ]
  },
  {
   "cell_type": "code",
   "execution_count": 12,
   "metadata": {},
   "outputs": [
    {
     "name": "stdout",
     "output_type": "stream",
     "text": [
      "STEP 1\n",
      "x should be 10:10\n",
      "SUCCESS! IN STEP 1\n",
      "STEP 2\n",
      "x should be True:True\n",
      "i should be 5:5\n",
      "SUCCESS! IN STEP 2\n"
     ]
    }
   ],
   "source": [
    "#MODIFY EACH STEP IN ORDER TO RUN COMPLETLY THE PROGRAM\n",
    "print('STEP 1')\n",
    "for i in range(0,11):\n",
    "    x = i\n",
    "    \n",
    "print(f'x should be 10:{x}')\n",
    "\n",
    "if x == 10:\n",
    "    print('SUCCESS! IN STEP 1')\n",
    "\n",
    "print('STEP 2')\n",
    "x = True\n",
    "for i in range(0,11):\n",
    "    x = x and True\n",
    "    if x and  i == 5:\n",
    "        break \n",
    "    \n",
    "print(f'x should be True:{x}')\n",
    "print(f'i should be 5:{i}')\n",
    "\n",
    "if i == 5 and x:\n",
    "    print('SUCCESS! IN STEP 2')"
   ]
  },
  {
   "cell_type": "markdown",
   "metadata": {},
   "source": [
    "## Punto 6"
   ]
  },
  {
   "cell_type": "code",
   "execution_count": 13,
   "metadata": {},
   "outputs": [],
   "source": [
    "def is_prime(n):\n",
    "    for i in range(2,int(np.sqrt(n))+1):\n",
    "        if (n%i) == 0:\n",
    "            return False\n",
    "    return True"
   ]
  },
  {
   "cell_type": "code",
   "execution_count": 14,
   "metadata": {},
   "outputs": [
    {
     "data": {
      "text/plain": [
       "True"
      ]
     },
     "execution_count": 14,
     "metadata": {},
     "output_type": "execute_result"
    }
   ],
   "source": [
    "is_prime(73)"
   ]
  },
  {
   "cell_type": "markdown",
   "metadata": {},
   "source": [
    "## Punto 7"
   ]
  },
  {
   "cell_type": "code",
   "execution_count": 21,
   "metadata": {},
   "outputs": [
    {
     "name": "stdout",
     "output_type": "stream",
     "text": [
      "[155922, 155923, 155924, 155925, 155926, 155927, 155928, 155929, 155930, 155931, 155932, 155933, 155934, 155935, 155936, 155937, 155938, 155939, 155940, 155941, 155942, 155943, 155944, 155945, 155946, 155947, 155948, 155949, 155950, 155951, 155952, 155953, 155954, 155955, 155956, 155957, 155958, 155959, 155960, 155961, 155962, 155963, 155964, 155965, 155966, 155967, 155968, 155969, 155970, 155971, 155972, 155973, 155974, 155975, 155976, 155977, 155978, 155979, 155980, 155981, 155982, 155983, 155984, 155985, 155986, 155987, 155988, 155989, 155990, 155991, 155992, 155993, 155994]\n"
     ]
    }
   ],
   "source": [
    "contador = 0\n",
    "last_no_prime = 1\n",
    "next_number = 2\n",
    "list = []\n",
    "\n",
    "while contador < 73:\n",
    "    next_number = next_number + 1\n",
    "    if not is_prime(next_number):\n",
    "        contador += 1\n",
    "        list.append(next_number)\n",
    "    else:\n",
    "        contador = 0\n",
    "        list = []\n",
    "print(list)"
   ]
  }
 ],
 "metadata": {
  "kernelspec": {
   "display_name": "Python 3.10.8 64-bit (microsoft store)",
   "language": "python",
   "name": "python3"
  },
  "language_info": {
   "codemirror_mode": {
    "name": "ipython",
    "version": 3
   },
   "file_extension": ".py",
   "mimetype": "text/x-python",
   "name": "python",
   "nbconvert_exporter": "python",
   "pygments_lexer": "ipython3",
   "version": "3.10.8"
  },
  "orig_nbformat": 4,
  "vscode": {
   "interpreter": {
    "hash": "624741679a3ae5d99cecf49b8df5d516a7a937e6e7328e129d1fa121c8592e26"
   }
  }
 },
 "nbformat": 4,
 "nbformat_minor": 2
}
