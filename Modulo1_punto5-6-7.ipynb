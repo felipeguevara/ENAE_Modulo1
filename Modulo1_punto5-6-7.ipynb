{
 "cells": [
  {
   "cell_type": "code",
   "execution_count": 1,
   "metadata": {},
   "outputs": [],
   "source": [
    "import numpy as np\n",
    "import pandas as pd"
   ]
  },
  {
   "cell_type": "markdown",
   "metadata": {},
   "source": [
    "## Punto 5"
   ]
  },
  {
   "cell_type": "code",
   "execution_count": 7,
   "metadata": {},
   "outputs": [
    {
     "name": "stdout",
     "output_type": "stream",
     "text": [
      "STEP 1\n",
      "x should be 10:10\n",
      "SUCCESS! IN STEP 1\n",
      "STEP 2\n",
      "x should be True:True\n",
      "i should be 5:5\n",
      "SUCCESS! IN STEP 2\n"
     ]
    }
   ],
   "source": [
    "#MODIFY EACH STEP IN ORDER TO RUN COMPLETLY THE PROGRAM\n",
    "print('STEP 1')\n",
    "for i in range(0,11):\n",
    "    x = i\n",
    "    \n",
    "print(f'x should be 10:{x}')\n",
    "\n",
    "if x == 10:\n",
    "    print('SUCCESS! IN STEP 1')\n",
    "\n",
    "print('STEP 2')\n",
    "x = True\n",
    "for i in range(0,11):\n",
    "    x = x and True\n",
    "    if x and  i == 5:\n",
    "        break \n",
    "    \n",
    "print(f'x should be True:{x}')\n",
    "print(f'i should be 5:{i}')\n",
    "\n",
    "if i == 5 and x:\n",
    "    print('SUCCESS! IN STEP 2')"
   ]
  },
  {
   "cell_type": "markdown",
   "metadata": {},
   "source": [
    "## Punto 6"
   ]
  },
  {
   "cell_type": "code",
   "execution_count": 8,
   "metadata": {},
   "outputs": [],
   "source": [
    "def is_prime (y):\n",
    "    for x in range (2, y):\n",
    "        if y%x == 0:\n",
    "            return False\n",
    "        if y == x+1: \n",
    "            return True"
   ]
  },
  {
   "cell_type": "code",
   "execution_count": 9,
   "metadata": {},
   "outputs": [
    {
     "data": {
      "text/plain": [
       "True"
      ]
     },
     "execution_count": 9,
     "metadata": {},
     "output_type": "execute_result"
    }
   ],
   "source": [
    "is_prime(73)"
   ]
  },
  {
   "cell_type": "markdown",
   "metadata": {},
   "source": [
    "## Punto 7"
   ]
  },
  {
   "cell_type": "code",
   "execution_count": 13,
   "metadata": {},
   "outputs": [
    {
     "name": "stdout",
     "output_type": "stream",
     "text": [
      "[1, 3, 5, 7, 11, 13, 17, 19, 23, 29, 31, 37, 41, 43, 47, 53, 59, 61, 67, 71, 73, 79, 83, 89, 97, 101, 103, 107, 109, 113, 127, 131, 137, 139, 149, 151, 157, 163, 167, 173, 179, 181, 191, 193, 197, 199, 211, 223, 227, 229, 233, 239, 241, 251, 257, 263, 269, 271, 277, 281, 283, 293, 307, 311, 313, 317, 331, 337, 347, 349, 353, 359, 367]\n"
     ]
    }
   ],
   "source": [
    "contador = 0\n",
    "last_prime = 1\n",
    "next_number = 2\n",
    "list = [last_prime]\n",
    "\n",
    "while contador<72:\n",
    "    next_number = next_number + 1\n",
    "    if is_prime(next_number):\n",
    "        contador+= 1\n",
    "        last_prime = next_number\n",
    "        list.append(last_prime)\n",
    "\n",
    "print(list)"
   ]
  }
 ],
 "metadata": {
  "kernelspec": {
   "display_name": "Python 3.10.8 64-bit (microsoft store)",
   "language": "python",
   "name": "python3"
  },
  "language_info": {
   "codemirror_mode": {
    "name": "ipython",
    "version": 3
   },
   "file_extension": ".py",
   "mimetype": "text/x-python",
   "name": "python",
   "nbconvert_exporter": "python",
   "pygments_lexer": "ipython3",
   "version": "3.10.8"
  },
  "orig_nbformat": 4,
  "vscode": {
   "interpreter": {
    "hash": "624741679a3ae5d99cecf49b8df5d516a7a937e6e7328e129d1fa121c8592e26"
   }
  }
 },
 "nbformat": 4,
 "nbformat_minor": 2
}
