{
 "cells": [
  {
   "cell_type": "code",
   "execution_count": 127,
   "metadata": {},
   "outputs": [],
   "source": [
    "import numpy as np\n",
    "import pandas as pd"
   ]
  },
  {
   "cell_type": "markdown",
   "metadata": {},
   "source": [
    "## Punto 8"
   ]
  },
  {
   "cell_type": "code",
   "execution_count": 128,
   "metadata": {},
   "outputs": [],
   "source": [
    "def is_prime(n):\n",
    "    for i in range(2,int(np.sqrt(n))+1):\n",
    "        if (n%i) == 0:\n",
    "            return False\n",
    "    return True"
   ]
  },
  {
   "cell_type": "code",
   "execution_count": 129,
   "metadata": {},
   "outputs": [],
   "source": [
    "def pos(y):\n",
    "    contador=0\n",
    "    for x in range(1, y):\n",
    "        if is_prime(x):\n",
    "            contador+=1\n",
    "    return contador"
   ]
  },
  {
   "cell_type": "code",
   "execution_count": 130,
   "metadata": {},
   "outputs": [],
   "source": [
    "def m(y,post):\n",
    "    if y<10:\n",
    "        return False\n",
    "    elif int(str(y)[0])*int(str(y)[1]) == post:\n",
    "        return True\n",
    "    return False"
   ]
  },
  {
   "cell_type": "code",
   "execution_count": 131,
   "metadata": {},
   "outputs": [],
   "source": [
    "def r(y, post):\n",
    "    invert = int(str(y)[::-1])\n",
    "    if is_prime(invert):\n",
    "        if int(str(pos(invert))[::-1]) == post:\n",
    "            return True\n",
    "    return False"
   ]
  },
  {
   "cell_type": "code",
   "execution_count": 138,
   "metadata": {},
   "outputs": [
    {
     "name": "stdout",
     "output_type": "stream",
     "text": [
      "La lista de los numeros que cumplen la teoria del Numero de Sheldon es la siguiente: \n",
      "[73]\n"
     ]
    }
   ],
   "source": [
    "post = 0\n",
    "list = []\n",
    "for i in range(2,1000001):\n",
    "    if is_prime(i):\n",
    "        post += 1\n",
    "        if m(i, post): \n",
    "            if r(i, post):\n",
    "                list.append(i)\n",
    "                pass\n",
    "            \n",
    "print(f'La lista de los numeros que cumplen la teoria del Numero de Sheldon es la siguiente: \\n{list}')"
   ]
  }
 ],
 "metadata": {
  "kernelspec": {
   "display_name": "Python 3.10.8 64-bit (microsoft store)",
   "language": "python",
   "name": "python3"
  },
  "language_info": {
   "codemirror_mode": {
    "name": "ipython",
    "version": 3
   },
   "file_extension": ".py",
   "mimetype": "text/x-python",
   "name": "python",
   "nbconvert_exporter": "python",
   "pygments_lexer": "ipython3",
   "version": "3.10.8"
  },
  "orig_nbformat": 4,
  "vscode": {
   "interpreter": {
    "hash": "624741679a3ae5d99cecf49b8df5d516a7a937e6e7328e129d1fa121c8592e26"
   }
  }
 },
 "nbformat": 4,
 "nbformat_minor": 2
}
